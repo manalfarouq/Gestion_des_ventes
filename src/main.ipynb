{
 "cells": [
  {
   "cell_type": "markdown",
   "id": "3a48a4d7",
   "metadata": {},
   "source": [
    "# Partie A : Exploration des données "
   ]
  },
  {
   "cell_type": "code",
   "execution_count": 6,
   "id": "90e66380",
   "metadata": {},
   "outputs": [
    {
     "name": "stdout",
     "output_type": "stream",
     "text": [
      "   Unnamed: 0.1  Unnamed: 0        Date     Produit     Catégorie  Quantité  \\\n",
      "0             0           0  2022-04-13  Smartphone          Mode        10   \n",
      "1             1           1  2023-03-12    Pantalon  Électronique         2   \n",
      "2             2           2  2022-09-28    Pantalon          Mode        19   \n",
      "3             3           3  2022-04-17     Fromage  Électronique         9   \n",
      "4             4           4  2022-03-13          TV          Mode         7   \n",
      "\n",
      "   PrixUnitaire    Magasin  ChiffreAffaires  \n",
      "0       1009.00       Lyon         10090.00  \n",
      "1        782.86      Paris          1565.72  \n",
      "2       1159.62   Bordeaux         22032.78  \n",
      "3        782.64   Bordeaux          7043.76  \n",
      "4       1279.01  Marseille          8953.07  \n",
      "\n",
      "------------------------------------------\n",
      "<class 'pandas.core.frame.DataFrame'>\n",
      "RangeIndex: 200 entries, 0 to 199\n",
      "Data columns (total 9 columns):\n",
      " #   Column           Non-Null Count  Dtype  \n",
      "---  ------           --------------  -----  \n",
      " 0   Unnamed: 0.1     200 non-null    int64  \n",
      " 1   Unnamed: 0       200 non-null    int64  \n",
      " 2   Date             200 non-null    object \n",
      " 3   Produit          200 non-null    object \n",
      " 4   Catégorie        200 non-null    object \n",
      " 5   Quantité         200 non-null    int64  \n",
      " 6   PrixUnitaire     200 non-null    float64\n",
      " 7   Magasin          200 non-null    object \n",
      " 8   ChiffreAffaires  200 non-null    float64\n",
      "dtypes: float64(2), int64(3), object(4)\n",
      "memory usage: 14.2+ KB\n",
      "\n",
      "Les informations générales du dataset : None\n",
      "\n",
      "------------------------------------------\n",
      "\n",
      "Les statistiques descriptives du dataset :        Unnamed: 0.1  Unnamed: 0    Quantité  PrixUnitaire  ChiffreAffaires\n",
      "count    200.000000  200.000000  200.000000    200.000000       200.000000\n",
      "mean      99.500000   99.500000   10.155000    691.105900      7140.474750\n",
      "std       57.879185   57.879185    5.506595    412.396293      6190.751618\n",
      "min        0.000000    0.000000    1.000000     26.740000        80.220000\n",
      "25%       49.750000   49.750000    5.000000    316.852500      2080.380000\n",
      "50%       99.500000   99.500000   10.000000    660.270000      5103.180000\n",
      "75%      149.250000  149.250000   15.000000   1011.815000     10419.482500\n",
      "max      199.000000  199.000000   19.000000   1484.990000     24217.010000\n",
      "\n",
      "------------------------------------------\n",
      "\n",
      "La liste des produits qui ont des valeurs manquantes : \n",
      " Unnamed: 0.1       0\n",
      "Unnamed: 0         0\n",
      "Date               0\n",
      "Produit            0\n",
      "Catégorie          0\n",
      "Quantité           0\n",
      "PrixUnitaire       0\n",
      "Magasin            0\n",
      "ChiffreAffaires    0\n",
      "dtype: int64\n"
     ]
    }
   ],
   "source": [
    "# Importation des bibliothèques nécessaires\n",
    "import pandas as pd\n",
    "\n",
    "\n",
    "# 1.  Charger le fichier CSV ou Excel avec pandas. \n",
    "df = pd.read_csv(\"../data/ventes.csv\")\n",
    "\n",
    "\n",
    "# 2.  Afficher les 5 premières lignes du dataset. \n",
    "print(df.head())\n",
    "\n",
    "# 3.  Afficher les informations générales du dataset \n",
    "print(\"\\n------------------------------------------\")\n",
    "print(\"\\nLes informations générales du dataset :\"\n",
    "      , df.info()\n",
    "      )\n",
    "\n",
    "print(\"\\n------------------------------------------\")\n",
    "print(\"\\nLes statistiques descriptives du dataset :\"\n",
    "      ,df.describe()\n",
    "      )\n",
    "\n",
    "# 4.  Identifier s’il existe des valeurs manquantes. \n",
    "print(\"\\n------------------------------------------\")\n",
    "print(\"\\nLa liste des produits qui ont des valeurs manquantes : \\n\"\n",
    "      ,df.isnull().sum()\n",
    "      )\n"
   ]
  },
  {
   "cell_type": "markdown",
   "id": "265038a3",
   "metadata": {},
   "source": [
    "# Partie B : Nettoyage et préparation "
   ]
  },
  {
   "cell_type": "code",
   "execution_count": 7,
   "id": "49f730c7",
   "metadata": {},
   "outputs": [
    {
     "name": "stdout",
     "output_type": "stream",
     "text": [
      "   Unnamed: 0.1  Unnamed: 0        Date     Produit     Catégorie  Quantité  \\\n",
      "0             0           0  2022-04-13  Smartphone          Mode        10   \n",
      "1             1           1  2023-03-12    Pantalon  Électronique         2   \n",
      "2             2           2  2022-09-28    Pantalon          Mode        19   \n",
      "3             3           3  2022-04-17     Fromage  Électronique         9   \n",
      "4             4           4  2022-03-13          TV          Mode         7   \n",
      "\n",
      "   PrixUnitaire    Magasin  ChiffreAffaires  \n",
      "0       1009.00       Lyon         10090.00  \n",
      "1        782.86      Paris          1565.72  \n",
      "2       1159.62   Bordeaux         22032.78  \n",
      "3        782.64   Bordeaux          7043.76  \n",
      "4       1279.01  Marseille          8953.07  \n",
      "--------------------------------------------------------------------------\n",
      "datetime64[ns]\n",
      "\n",
      "--------------------------------------------------------------------------\n",
      "   Unnamed: 0.1  Unnamed: 0       Date     Produit     Catégorie  Quantité  \\\n",
      "0             0           0 2022-04-13  Smartphone          Mode        10   \n",
      "1             1           1 2023-03-12    Pantalon  Électronique         2   \n",
      "2             2           2 2022-09-28    Pantalon          Mode        19   \n",
      "3             3           3 2022-04-17     Fromage  Électronique         9   \n",
      "4             4           4 2022-03-13          TV          Mode         7   \n",
      "\n",
      "   PrixUnitaire    Magasin  ChiffreAffaires  \n",
      "0       1009.00       Lyon         10090.00  \n",
      "1        782.86      Paris          1565.72  \n",
      "2       1159.62   Bordeaux         22032.78  \n",
      "3        782.64   Bordeaux          7043.76  \n",
      "4       1279.01  Marseille          8953.07  \n",
      "\n",
      "--------------------------------------------------------------------------\n",
      "\n",
      "--------------------------------------------------------------------------\n",
      "\n",
      "Liste des produits doublons : \n",
      " 0      False\n",
      "1      False\n",
      "2      False\n",
      "3      False\n",
      "4      False\n",
      "       ...  \n",
      "195    False\n",
      "196    False\n",
      "197    False\n",
      "198    False\n",
      "199    False\n",
      "Length: 200, dtype: bool\n",
      "\n",
      "Nombre de doublons sur 'Produit' :  0\n",
      "\n",
      "Nombre de doublons sur 'Produit' :  0\n"
     ]
    }
   ],
   "source": [
    "# 5.  Convertir la colonne Date en type datetime.\n",
    "\n",
    "print(df.head())\n",
    "df['Date'] = pd.to_datetime(df['Date'])\n",
    "print(\"--------------------------------------------------------------------------\")\n",
    "print(df['Date'].dtypes)\n",
    "df.to_csv(\"../data/ventes.csv\")\n",
    "print(\"\\n--------------------------------------------------------------------------\")\n",
    "print(df.head())\n",
    "\n",
    "\n",
    "# 6.  Créer une nouvelle colonne ChiffreAffaires = Quantité * PrixUnitaire.\n",
    "\n",
    "print(\"\\n--------------------------------------------------------------------------\")\n",
    "df['ChiffreAffaires'] = df['Quantité'] * df['PrixUnitaire']\n",
    "\n",
    "# 7.  Vérifier s’il existe des doublons et les supprimer.\n",
    "\n",
    "print(\"\\n--------------------------------------------------------------------------\")\n",
    "\n",
    "# df.loc[len(df)] = [pd.to_datetime('2022-04-13'), 'Smartphone', 'Mode', 10, 1009.00, 'Lyon', 10090.00]\n",
    "print(\"\\nListe des produits doublons : \\n\",df.duplicated())\n",
    "print(\"\\nNombre de doublons sur 'Produit' : \", df.duplicated().sum())\n",
    "df.drop_duplicates(inplace=True)\n",
    "print(\"\\nNombre de doublons sur 'Produit' : \", df.duplicated().sum())\n"
   ]
  },
  {
   "cell_type": "markdown",
   "id": "ba70270e",
   "metadata": {},
   "source": [
    "# Partie C : Analyses simples "
   ]
  },
  {
   "cell_type": "code",
   "execution_count": 8,
   "id": "d3eb5b81",
   "metadata": {},
   "outputs": [
    {
     "name": "stdout",
     "output_type": "stream",
     "text": [
      "\n",
      "Produit le plus vendu : \n",
      " Unnamed: 0.1                         2\n",
      "Unnamed: 0                           2\n",
      "Date               2022-09-28 00:00:00\n",
      "Produit                       Pantalon\n",
      "Catégorie                         Mode\n",
      "Quantité                            19\n",
      "PrixUnitaire                   1159.62\n",
      "Magasin                       Bordeaux\n",
      "ChiffreAffaires               22032.78\n",
      "Name: 2, dtype: object\n",
      "****************************************\n",
      "\n",
      "Le produit le plus cher : \n",
      " Unnamed: 0.1                       158\n",
      "Unnamed: 0                         158\n",
      "Date               2023-08-01 00:00:00\n",
      "Produit                     Chaussures\n",
      "Catégorie                         Mode\n",
      "Quantité                            13\n",
      "PrixUnitaire                   1484.99\n",
      "Magasin                           Lyon\n",
      "ChiffreAffaires               19304.87\n",
      "Name: 158, dtype: object\n",
      "\n",
      "-----------------------------------------------\n",
      "\n",
      "Produit le moins vendu : \n",
      " Unnamed: 0.1                        82\n",
      "Unnamed: 0                          82\n",
      "Date               2023-04-07 00:00:00\n",
      "Produit                         Laptop\n",
      "Catégorie                         Mode\n",
      "Quantité                             1\n",
      "PrixUnitaire                    382.39\n",
      "Magasin                      Marseille\n",
      "ChiffreAffaires                 382.39\n",
      "Name: 82, dtype: object\n",
      "*****************************************\n",
      "\n",
      "Produit le moins cher : \n",
      " Unnamed: 0.1                        16\n",
      "Unnamed: 0                          16\n",
      "Date               2023-10-26 00:00:00\n",
      "Produit                       Pantalon\n",
      "Catégorie                 Électronique\n",
      "Quantité                             3\n",
      "PrixUnitaire                     26.74\n",
      "Magasin                      Marseille\n",
      "ChiffreAffaires                  80.22\n",
      "Name: 16, dtype: object\n",
      "\n",
      "-----------------------------------------------\n",
      "\n",
      "       Catégorie  ChiffreAffaires\n",
      "0   Alimentaire        497699.75\n",
      "1          Mode        530772.33\n",
      "2  Électronique        399622.87\n"
     ]
    }
   ],
   "source": [
    "# 8.  Trouver le produit le plus vendu en termes de quantité. \n",
    "\n",
    "print(\"\\nProduit le plus vendu : \\n\",df.loc[df['Quantité'].idxmax()])\n",
    "print(\"****************************************\")\n",
    "print(\"\\nLe produit le plus cher : \\n\",df.loc[df['PrixUnitaire'].idxmax()])\n",
    "\n",
    "print(\"\\n-----------------------------------------------\")\n",
    "\n",
    "print(\"\\nProduit le moins vendu : \\n\",df.loc[df['Quantité'].idxmin()])\n",
    "print(\"*****************************************\")\n",
    "print(\"\\nProduit le moins cher : \\n\",df.loc[df['PrixUnitaire'].idxmin()])\n",
    "\n",
    "\n",
    "# 9.  Calculer le chiffre d’affaires total par catégorie. \n",
    "print(\"\\n-----------------------------------------------\")\n",
    "\n",
    "chiff_par_categorie = df.groupby('Catégorie', as_index=False)['ChiffreAffaires'].sum()\n",
    "\n",
    "print(\"\\n\",chiff_par_categorie)"
   ]
  },
  {
   "cell_type": "code",
   "execution_count": 9,
   "id": "83f236dd",
   "metadata": {},
   "outputs": [
    {
     "data": {
      "text/html": [
       "<div>\n",
       "<style scoped>\n",
       "    .dataframe tbody tr th:only-of-type {\n",
       "        vertical-align: middle;\n",
       "    }\n",
       "\n",
       "    .dataframe tbody tr th {\n",
       "        vertical-align: top;\n",
       "    }\n",
       "\n",
       "    .dataframe thead th {\n",
       "        text-align: right;\n",
       "    }\n",
       "</style>\n",
       "<table border=\"1\" class=\"dataframe\">\n",
       "  <thead>\n",
       "    <tr style=\"text-align: right;\">\n",
       "      <th></th>\n",
       "      <th></th>\n",
       "      <th>ChiffreAffaires</th>\n",
       "    </tr>\n",
       "    <tr>\n",
       "      <th>Catégorie</th>\n",
       "      <th>Magasin</th>\n",
       "      <th></th>\n",
       "    </tr>\n",
       "  </thead>\n",
       "  <tbody>\n",
       "    <tr>\n",
       "      <th rowspan=\"4\" valign=\"top\">Alimentaire</th>\n",
       "      <th>Bordeaux</th>\n",
       "      <td>153836.39</td>\n",
       "    </tr>\n",
       "    <tr>\n",
       "      <th>Lyon</th>\n",
       "      <td>111030.44</td>\n",
       "    </tr>\n",
       "    <tr>\n",
       "      <th>Marseille</th>\n",
       "      <td>94439.95</td>\n",
       "    </tr>\n",
       "    <tr>\n",
       "      <th>Paris</th>\n",
       "      <td>138392.97</td>\n",
       "    </tr>\n",
       "    <tr>\n",
       "      <th rowspan=\"4\" valign=\"top\">Mode</th>\n",
       "      <th>Bordeaux</th>\n",
       "      <td>131471.49</td>\n",
       "    </tr>\n",
       "    <tr>\n",
       "      <th>Lyon</th>\n",
       "      <td>126949.20</td>\n",
       "    </tr>\n",
       "    <tr>\n",
       "      <th>Marseille</th>\n",
       "      <td>143151.48</td>\n",
       "    </tr>\n",
       "    <tr>\n",
       "      <th>Paris</th>\n",
       "      <td>129200.16</td>\n",
       "    </tr>\n",
       "    <tr>\n",
       "      <th rowspan=\"4\" valign=\"top\">Électronique</th>\n",
       "      <th>Bordeaux</th>\n",
       "      <td>67954.63</td>\n",
       "    </tr>\n",
       "    <tr>\n",
       "      <th>Lyon</th>\n",
       "      <td>140434.43</td>\n",
       "    </tr>\n",
       "    <tr>\n",
       "      <th>Marseille</th>\n",
       "      <td>123110.36</td>\n",
       "    </tr>\n",
       "    <tr>\n",
       "      <th>Paris</th>\n",
       "      <td>68123.45</td>\n",
       "    </tr>\n",
       "  </tbody>\n",
       "</table>\n",
       "</div>"
      ],
      "text/plain": [
       "                        ChiffreAffaires\n",
       "Catégorie    Magasin                   \n",
       "Alimentaire  Bordeaux         153836.39\n",
       "             Lyon             111030.44\n",
       "             Marseille         94439.95\n",
       "             Paris            138392.97\n",
       "Mode         Bordeaux         131471.49\n",
       "             Lyon             126949.20\n",
       "             Marseille        143151.48\n",
       "             Paris            129200.16\n",
       "Électronique Bordeaux          67954.63\n",
       "             Lyon             140434.43\n",
       "             Marseille        123110.36\n",
       "             Paris             68123.45"
      ]
     },
     "execution_count": 9,
     "metadata": {},
     "output_type": "execute_result"
    }
   ],
   "source": [
    "pivot = df.pivot_table(\n",
    "    values= 'ChiffreAffaires',\n",
    "    index= ['Catégorie','Magasin'],\n",
    "    aggfunc= 'sum'\n",
    ")\n",
    "\n",
    "pivot"
   ]
  },
  {
   "cell_type": "code",
   "execution_count": 10,
   "id": "860c3733",
   "metadata": {},
   "outputs": [
    {
     "name": "stdout",
     "output_type": "stream",
     "text": [
      "     Magasin  ChiffreAffaires\n",
      "0   Bordeaux      7679.619783\n",
      "1       Lyon      7883.626458\n",
      "2  Marseille      6558.214364\n",
      "3      Paris      6582.678039\n",
      "\n",
      "---------------------------------------------------\n",
      "       mois  Quantité\n",
      "0   2022-01        10\n",
      "1   2022-02         8\n",
      "2   2022-03         6\n",
      "3   2022-04         8\n",
      "4   2022-05         6\n",
      "5   2022-06         6\n",
      "6   2022-07         8\n",
      "7   2022-08        13\n",
      "8   2022-09         7\n",
      "9   2022-10         5\n",
      "10  2022-11         6\n",
      "11  2022-12         8\n",
      "12  2023-01        13\n",
      "13  2023-02         7\n",
      "14  2023-03         3\n",
      "15  2023-04        16\n",
      "16  2023-05        11\n",
      "17  2023-06         3\n",
      "18  2023-07        15\n",
      "19  2023-08         4\n",
      "20  2023-09         5\n",
      "21  2023-10        10\n",
      "22  2023-11        11\n",
      "23  2023-12        11\n"
     ]
    }
   ],
   "source": [
    "# 10. Calculer le chiffre d’affaires moyen par magasin\n",
    "\n",
    "chiff_moyenne_par_magasin = df.groupby('Magasin', as_index=False)['ChiffreAffaires'].mean()\n",
    "print(chiff_moyenne_par_magasin)\n",
    "\n",
    "# 11. Compter le nombre de ventes par mois\n",
    "df['mois'] = df['Date'].dt.to_period('M')\n",
    "print(\"\\n---------------------------------------------------\")\n",
    "compter_ventes_par_mois = df.groupby('mois', as_index=False)['Quantité'].count()\n",
    "print(compter_ventes_par_mois)"
   ]
  },
  {
   "cell_type": "code",
   "execution_count": 19,
   "id": "e9a3e0a2",
   "metadata": {},
   "outputs": [
    {
     "data": {
      "image/png": "[encoded data removed]",
      "text/plain": [
       "<Figure size 900x900 with 1 Axes>"
      ]
     },
     "metadata": {},
     "output_type": "display_data"
    }
   ],
   "source": [
    "import matplotlib.pyplot as plt\n",
    "\n",
    "df['mois'] = df['Date'].dt.to_period('M')\n",
    "chiff_par_mois = df.groupby('mois', as_index=False)['ChiffreAffaires'].sum()\n",
    "\n",
    "plt.figure(figsize=(9,9))\n",
    "plt.bar(chiff_par_mois['mois'].astype(str), chiff_par_mois['ChiffreAffaires']) \n",
    "plt.title(\"Graphique de l’évolution du chiffre d’affaires par mois\")\n",
    "plt.xlabel(\"Mois\")\n",
    "plt.ylabel(\"Chiffre d’affaires\")\n",
    "plt.xticks(rotation=45)  \n",
    "plt.show()\n"
   ]
  },
  {
   "cell_type": "markdown",
   "id": "df4c1f15",
   "metadata": {},
   "source": [
    "# Partie E : Analyses supplémentaires "
   ]
  },
  {
   "cell_type": "code",
   "execution_count": 12,
   "id": "fb83bf2c",
   "metadata": {},
   "outputs": [
    {
     "name": "stdout",
     "output_type": "stream",
     "text": [
      "\n",
      "Le magasin avec le plus grand chiffre d’affaires cumulé est :  Lyon\n",
      "\n",
      "---------------------------------------------------\n",
      "\n",
      "le mois où les ventes (quantité) ont été les plus fortes : \n",
      " mois        23\n",
      "Quantité    15\n",
      "dtype: int64\n",
      "\n",
      "---------------------------------------------------\n",
      "\n",
      "le prix unitaire moyen par produit (dh): \n",
      " Produit\n",
      "Chaussures    639.017368\n",
      "Fromage       692.164800\n",
      "Laptop        698.736250\n",
      "Pain          600.907857\n",
      "Pantalon      630.053929\n",
      "Smartphone    765.570000\n",
      "T-shirt       813.896000\n",
      "TV            674.315625\n",
      "Name: PrixUnitaire, dtype: float64\n",
      "\n",
      "---------------------------------------------------\n",
      "\n",
      "Afficher le top 3 des catégories qui génèrent le plus de ventes en volume (quantité) : \n",
      " Catégorie\n",
      "Alimentaire     666\n",
      "Mode            751\n",
      "Électronique    614\n",
      "Name: Quantité, dtype: int64\n",
      "\n",
      "---------------------------------------------------\n",
      "\n",
      "la répartition des ventes par jour de la semaine : \n",
      " jour\n",
      "Friday       284\n",
      "Monday       289\n",
      "Saturday     427\n",
      "Sunday       273\n",
      "Thursday     293\n",
      "Tuesday      173\n",
      "Wednesday    292\n",
      "Name: Quantité, dtype: int64\n",
      "\n",
      "*****En se basant sur les resultats le jour a le plus frequant ventes est :  Saturday\n"
     ]
    }
   ],
   "source": [
    "# 15. Identifier le magasin avec le plus grand chiffre d’affaires cumulé\n",
    "\n",
    "magasin_plus_grand_chiff = df.groupby('Magasin')['ChiffreAffaires'].sum()\n",
    "print(\"\\nLe magasin avec le plus grand chiffre d’affaires cumulé est : \", magasin_plus_grand_chiff.idxmax())\n",
    "\n",
    "\n",
    "# 16. Trouver le mois où les ventes (quantité) ont été les plus fortes\n",
    "\n",
    "print(\"\\n---------------------------------------------------\")\n",
    "mois_ventes_plus_fortes = df.groupby('mois', as_index=False)['Quantité'].sum()\n",
    "print(\"\\nle mois où les ventes (quantité) ont été les plus fortes : \\n\", mois_ventes_plus_fortes.idxmax())\n",
    "\n",
    "# 17. Calculer le prix unitaire moyen par produit\n",
    "\n",
    "print(\"\\n---------------------------------------------------\")\n",
    "prix_unitaire_par_produit = df.groupby('Produit')['PrixUnitaire'].mean()\n",
    "print(\"\\nle prix unitaire moyen par produit (dh): \\n\",prix_unitaire_par_produit)\n",
    "\n",
    "# 18. Afficher le top 3 des catégories qui génèrent le plus de ventes en volume (quantité)\n",
    "\n",
    "print(\"\\n---------------------------------------------------\")\n",
    "categ_plus_ventes = df.groupby('Catégorie')['Quantité'].sum()\n",
    "print(\"\\nAfficher le top 3 des catégories qui génèrent le plus de ventes en volume (quantité) : \\n\",categ_plus_ventes.head(3))\n",
    "\n",
    "# 19. Analyser la répartition des ventes par jour de la semaine (CA total)\n",
    "\n",
    "print(\"\\n---------------------------------------------------\")\n",
    "df['jour'] = df['Date'].dt.day_name()\n",
    "ventes_par_jour = df.groupby('jour')['Quantité'].sum()\n",
    "print(\"\\nla répartition des ventes par jour de la semaine : \\n\",ventes_par_jour)\n",
    "print(\"\\n*****En se basant sur les resultats le jour a le plus frequant ventes est : \",ventes_par_jour.idxmax())\n"
   ]
  },
  {
   "cell_type": "code",
   "execution_count": 13,
   "id": "85f1bdfb",
   "metadata": {},
   "outputs": [
    {
     "data": {
      "image/png": "[encoded data removed]",
      "text/plain": [
       "<Figure size 300x300 with 1 Axes>"
      ]
     },
     "metadata": {},
     "output_type": "display_data"
    }
   ],
   "source": [
    "# 20. Créer un histogramme représentant la répartition des quantités vendues. \n",
    "\n",
    "plt.figure(figsize=(3,3))\n",
    "plt.hist(df['Quantité'], bins=10, color='skyblue', edgecolor='black')\n",
    "plt.title(\"Répartition des quantités vendues\")\n",
    "plt.xlabel(\"Quantité\")\n",
    "plt.ylabel(\"Fréquence\")\n",
    "plt.show()"
   ]
  },
  {
   "cell_type": "markdown",
   "id": "d94da0aa",
   "metadata": {},
   "source": [
    "# Exercice (Partie 2) : Traitement et modélisation avec Scikit-Learn "
   ]
  },
  {
   "cell_type": "markdown",
   "id": "eecb5393",
   "metadata": {},
   "source": [
    "### Partie F : Préparation des données"
   ]
  },
  {
   "cell_type": "code",
   "execution_count": 14,
   "id": "e04bae35",
   "metadata": {},
   "outputs": [
    {
     "name": "stdout",
     "output_type": "stream",
     "text": [
      "     Quantité  PrixUnitaire     Catégorie    Magasin  ChiffreAffaires\n",
      "0          10       1009.00          Mode       Lyon         10090.00\n",
      "1           2        782.86  Électronique      Paris          1565.72\n",
      "2          19       1159.62          Mode   Bordeaux         22032.78\n",
      "3           9        782.64  Électronique   Bordeaux          7043.76\n",
      "4           7       1279.01          Mode  Marseille          8953.07\n",
      "..        ...           ...           ...        ...              ...\n",
      "195        17       1122.68   Alimentaire   Bordeaux         19085.56\n",
      "196         8        756.57   Alimentaire       Lyon          6052.56\n",
      "197         2        352.16  Électronique       Lyon           704.32\n",
      "198         8       1349.86          Mode   Bordeaux         10798.88\n",
      "199         7        578.92  Électronique  Marseille          4052.44\n",
      "\n",
      "[200 rows x 5 columns]\n"
     ]
    }
   ],
   "source": [
    "# 21. Sélectionner uniquement les colonnes utiles pour la modélisation \n",
    "\n",
    "colonne_utile = ['Quantité',\n",
    "                 'PrixUnitaire',\n",
    "                 'Catégorie',\n",
    "                 'Magasin',\n",
    "                 'ChiffreAffaires'\n",
    "                ]\n",
    "\n",
    "new_df = df[colonne_utile]\n",
    "\n",
    "print(new_df)"
   ]
  },
  {
   "cell_type": "code",
   "execution_count": 15,
   "id": "dd295ce2",
   "metadata": {},
   "outputs": [
    {
     "name": "stdout",
     "output_type": "stream",
     "text": [
      "   Quantité  PrixUnitaire  ChiffreAffaires  Catégorie_Mode  \\\n",
      "0        10       1009.00         10090.00             1.0   \n",
      "1         2        782.86          1565.72             0.0   \n",
      "2        19       1159.62         22032.78             1.0   \n",
      "3         9        782.64          7043.76             0.0   \n",
      "4         7       1279.01          8953.07             1.0   \n",
      "\n",
      "   Catégorie_Électronique  Magasin_Lyon  Magasin_Marseille  Magasin_Paris  \n",
      "0                     0.0           1.0                0.0            0.0  \n",
      "1                     1.0           0.0                0.0            1.0  \n",
      "2                     0.0           0.0                0.0            0.0  \n",
      "3                     1.0           0.0                0.0            0.0  \n",
      "4                     0.0           0.0                1.0            0.0  \n"
     ]
    }
   ],
   "source": [
    "from sklearn.preprocessing import OneHotEncoder\n",
    "\n",
    "colonnes_cat = ['Catégorie', 'Magasin']\n",
    "\n",
    "encoder = OneHotEncoder(sparse_output=False, drop='first') \n",
    "\n",
    "# Extraire les colonnes catégorielles\n",
    "X_cat = new_df[colonnes_cat]\n",
    "\n",
    "# Transformer\n",
    "X_encoded = encoder.fit_transform(X_cat)\n",
    "\n",
    "# Créer DataFrame avec colonnes encodées\n",
    "\n",
    "df_encoded = pd.DataFrame(X_encoded, columns=encoder.get_feature_names_out(colonnes_cat))\n",
    "\n",
    "# Garder les colonnes numériques\n",
    "df_num = new_df.drop(columns=colonnes_cat)\n",
    "\n",
    "# Fusionner\n",
    "df_final = pd.concat([df_num.reset_index(drop=True), df_encoded.reset_index(drop=True)], axis=1)\n",
    "\n",
    "print(df_final.head())\n"
   ]
  },
  {
   "cell_type": "code",
   "execution_count": 22,
   "id": "99422990",
   "metadata": {},
   "outputs": [],
   "source": [
    "# 23. Séparer les données en X (features) et y (target)\n",
    "\n",
    "X = df_final.drop(columns=['ChiffreAffaires'])\n",
    "y = df_final['ChiffreAffaires']\n"
   ]
  },
  {
   "cell_type": "code",
   "execution_count": 23,
   "id": "a14794a8",
   "metadata": {},
   "outputs": [],
   "source": [
    "# 24. Découper le dataset en jeu d’entraînement et jeu de test (train_test_split)\n",
    "from sklearn.model_selection import train_test_split\n",
    "\n",
    "# Découpage en 80% entraînement et 20% test\n",
    "X_train, X_test, y_train, y_test = train_test_split(X, y, test_size=0.2, random_state=42)\n",
    "\n"
   ]
  },
  {
   "cell_type": "markdown",
   "id": "7e237e06",
   "metadata": {},
   "source": [
    "### Partie G : Régression (prédiction du Chiffre d’Affaires)"
   ]
  },
  {
   "cell_type": "code",
   "execution_count": 31,
   "id": "322cf4b8",
   "metadata": {},
   "outputs": [
    {
     "name": "stdout",
     "output_type": "stream",
     "text": [
      "Pred :  [-2757.92250841  5748.09478757 18375.87385273 18219.78543097]\n",
      "real values :  [  963.33  3550.96 22244.   19304.87]\n"
     ]
    }
   ],
   "source": [
    "# 25.Entraîner un modèle de régression linéaire pour prédire ChiffreAffaires à partir de Quantité, PrixUnitaire, Catégorie, Magasin\n",
    "\n",
    "from sklearn.linear_model import LinearRegression\n",
    "\n",
    "# print(X_train.dtypes)\n",
    "\n",
    "model = LinearRegression()\n",
    "model.fit(X_train, y_train)\n",
    "\n",
    "# faire predictions\n",
    "\n",
    "y_pred = model.predict(X_test)\n",
    "print(\"Pred : \",y_pred[:4])\n",
    "print(\"real values : \",y_test.values[:4])"
   ]
  },
  {
   "cell_type": "code",
   "execution_count": 33,
   "id": "a43a84e3",
   "metadata": {},
   "outputs": [
    {
     "name": "stdout",
     "output_type": "stream",
     "text": [
      "R2 =  0.8559820991792013\n",
      "MSE =  6153518.982924463\n"
     ]
    }
   ],
   "source": [
    "# 26. Évaluer la performance du modèle. (Score)\n",
    "\n",
    "from sklearn.metrics import r2_score, mean_squared_error\n",
    "\n",
    "R2 = r2_score(y_test,y_pred)\n",
    "print(\"R2 = \",R2)\n",
    "\n",
    "Mse = mean_squared_error(y_test, y_pred)\n",
    "print(\"MSE = \", Mse)"
   ]
  },
  {
   "cell_type": "code",
   "execution_count": 36,
   "id": "a0e590e2",
   "metadata": {},
   "outputs": [
    {
     "name": "stdout",
     "output_type": "stream",
     "text": [
      "R2 =  0.9818903873730691\n",
      "MSE =  773777.7348379057\n"
     ]
    }
   ],
   "source": [
    "# 27. Tester une autre méthode (ex. RandomForestRegressor) et comparer les résultats\n",
    "\n",
    "from sklearn.ensemble import RandomForestRegressor\n",
    "\n",
    "model2 = RandomForestRegressor()\n",
    "model2.fit(X_train, y_train)\n",
    "\n",
    "y_pred2 = model2.predict(X_test)\n",
    "\n",
    "R2 = r2_score(y_test,y_pred2)\n",
    "print(\"R2 = \",R2)\n",
    "\n",
    "Mse = mean_squared_error(y_test, y_pred2)\n",
    "print(\"MSE = \", Mse)\n"
   ]
  },
  {
   "cell_type": "code",
   "execution_count": null,
   "id": "8e8dedbe",
   "metadata": {},
   "outputs": [],
   "source": []
  }
 ],
 "metadata": {
  "kernelspec": {
   "display_name": "venv",
   "language": "python",
   "name": "python3"
  },
  "language_info": {
   "codemirror_mode": {
    "name": "ipython",
    "version": 3
   },
   "file_extension": ".py",
   "mimetype": "text/x-python",
   "name": "python",
   "nbconvert_exporter": "python",
   "pygments_lexer": "ipython3",
   "version": "3.10.0"
  }
 },
 "nbformat": 4,
 "nbformat_minor": 5
}
