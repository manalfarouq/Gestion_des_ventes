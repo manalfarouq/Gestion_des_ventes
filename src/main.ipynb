{
 "cells": [
  {
   "cell_type": "markdown",
   "id": "3a48a4d7",
   "metadata": {},
   "source": [
    "# Partie A : Exploration des données "
   ]
  },
  {
   "cell_type": "code",
   "execution_count": 18,
   "id": "90e66380",
   "metadata": {},
   "outputs": [
    {
     "name": "stdout",
     "output_type": "stream",
     "text": [
      "         Date     Produit     Catégorie  Quantité  PrixUnitaire    Magasin\n",
      "0  2022-04-13  Smartphone          Mode        10       1009.00       Lyon\n",
      "1  2023-03-12    Pantalon  Électronique         2        782.86      Paris\n",
      "2  2022-09-28    Pantalon          Mode        19       1159.62   Bordeaux\n",
      "3  2022-04-17     Fromage  Électronique         9        782.64   Bordeaux\n",
      "4  2022-03-13          TV          Mode         7       1279.01  Marseille\n",
      "\n",
      "------------------------------------------\n",
      "<class 'pandas.core.frame.DataFrame'>\n",
      "RangeIndex: 200 entries, 0 to 199\n",
      "Data columns (total 6 columns):\n",
      " #   Column        Non-Null Count  Dtype  \n",
      "---  ------        --------------  -----  \n",
      " 0   Date          200 non-null    object \n",
      " 1   Produit       200 non-null    object \n",
      " 2   Catégorie     200 non-null    object \n",
      " 3   Quantité      200 non-null    int64  \n",
      " 4   PrixUnitaire  200 non-null    float64\n",
      " 5   Magasin       200 non-null    object \n",
      "dtypes: float64(1), int64(1), object(4)\n",
      "memory usage: 9.5+ KB\n",
      "\n",
      "Les informations générales du dataset : None\n",
      "\n",
      "------------------------------------------\n",
      "\n",
      "Les statistiques descriptives du dataset :          Quantité  PrixUnitaire\n",
      "count  200.000000    200.000000\n",
      "mean    10.155000    691.105900\n",
      "std      5.506595    412.396293\n",
      "min      1.000000     26.740000\n",
      "25%      5.000000    316.852500\n",
      "50%     10.000000    660.270000\n",
      "75%     15.000000   1011.815000\n",
      "max     19.000000   1484.990000\n",
      "\n",
      "------------------------------------------\n",
      "\n",
      "La liste des produits qui ont des valeurs manquantes : \n",
      " Date            0\n",
      "Produit         0\n",
      "Catégorie       0\n",
      "Quantité        0\n",
      "PrixUnitaire    0\n",
      "Magasin         0\n",
      "dtype: int64\n"
     ]
    }
   ],
   "source": [
    "# Importation des bibliothèques nécessaires\n",
    "import pandas as pd\n",
    "\n",
    "\n",
    "# 1.  Charger le fichier CSV ou Excel avec pandas. \n",
    "df = pd.read_csv(\"../data/ventes.csv\")\n",
    "\n",
    "\n",
    "# 2.  Afficher les 5 premières lignes du dataset. \n",
    "print(df.head())\n",
    "\n",
    "# 3.  Afficher les informations générales du dataset \n",
    "print(\"\\n------------------------------------------\")\n",
    "print(\"\\nLes informations générales du dataset :\"\n",
    "      , df.info()\n",
    "      )\n",
    "\n",
    "print(\"\\n------------------------------------------\")\n",
    "print(\"\\nLes statistiques descriptives du dataset :\"\n",
    "      ,df.describe()\n",
    "      )\n",
    "\n",
    "# 4.  Identifier s’il existe des valeurs manquantes. \n",
    "print(\"\\n------------------------------------------\")\n",
    "print(\"\\nLa liste des produits qui ont des valeurs manquantes : \\n\"\n",
    "      ,df.isnull().sum()\n",
    "      )\n"
   ]
  },
  {
   "cell_type": "markdown",
   "id": "265038a3",
   "metadata": {},
   "source": [
    "# Partie B : Nettoyage et préparation "
   ]
  },
  {
   "cell_type": "code",
   "execution_count": null,
   "id": "49f730c7",
   "metadata": {},
   "outputs": [
    {
     "name": "stdout",
     "output_type": "stream",
     "text": [
      "\n",
      "--------------------------------------------------------------------------\n",
      "\n",
      "Liste des produits doublons : \n",
      " 0     False\n",
      "1     False\n",
      "3     False\n",
      "4     False\n",
      "6     False\n",
      "10    False\n",
      "dtype: bool\n",
      "\n",
      "Nombre de doublons sur 'Produit' :  0\n",
      "\n",
      "Nombre de doublons sur 'Produit' :  0\n"
     ]
    }
   ],
   "source": [
    "# 5.  Convertir la colonne Date en type datetime.\n",
    "\n",
    "print(df.head())\n",
    "df['Date'] = pd.to_datetime(df['Date'])\n",
    "print(\"--------------------------------------------------------------------------\")\n",
    "print(df['Date'].dtypes)\n",
    "df.to_csv(\"../data/ventes.csv\")\n",
    "print(\"\\n--------------------------------------------------------------------------\")\n",
    "print(df.head())\n",
    "\n",
    "\n",
    "# 6.  Créer une nouvelle colonne ChiffreAffaires = Quantité * PrixUnitaire.\n",
    "\n",
    "print(\"\\n--------------------------------------------------------------------------\")\n",
    "df['ChiffreAffaires'] = df['Quantité'] * df['PrixUnitaire']\n",
    "\n",
    "# 7.  Vérifier s’il existe des doublons et les supprimer.\n",
    "\n",
    "print(\"\\n--------------------------------------------------------------------------\")\n",
    "\n",
    "df.loc[len(df)] = [pd.to_datetime('2022-04-13'), 'Smartphone', 'Mode', 10, 1009.00, 'Lyon', 10090.00]\n",
    "print(\"\\nListe des produits doublons : \\n\",df.duplicated())\n",
    "print(\"\\nNombre de doublons sur 'Produit' : \", df.duplicated().sum())\n",
    "df.drop_duplicates(inplace=True)\n",
    "print(\"\\nNombre de doublons sur 'Produit' : \", df.duplicated().sum())\n"
   ]
  },
  {
   "cell_type": "markdown",
   "id": "ba70270e",
   "metadata": {},
   "source": [
    "# Partie C : Analyses simples "
   ]
  },
  {
   "cell_type": "code",
   "execution_count": 99,
   "id": "d3eb5b81",
   "metadata": {},
   "outputs": [
    {
     "name": "stdout",
     "output_type": "stream",
     "text": [
      "\n",
      "Produit le plus vendu : \n",
      " Date               2022-01-21 00:00:00\n",
      "Produit                        T-shirt\n",
      "Catégorie                 Électronique\n",
      "Quantité                            18\n",
      "PrixUnitaire                     843.6\n",
      "Magasin                      Marseille\n",
      "ChiffreAffaires                15184.8\n",
      "Name: 6, dtype: object\n",
      "****************************************\n",
      "\n",
      "Le produit le plus cher : \n",
      " Date               2022-03-13 00:00:00\n",
      "Produit                             TV\n",
      "Catégorie                         Mode\n",
      "Quantité                             7\n",
      "PrixUnitaire                   1279.01\n",
      "Magasin                      Marseille\n",
      "ChiffreAffaires                8953.07\n",
      "Name: 4, dtype: object\n",
      "\n",
      "-----------------------------------------------\n",
      "\n",
      "Produit le moins vendu : \n",
      " Date               2023-03-12 00:00:00\n",
      "Produit                       Pantalon\n",
      "Catégorie                 Électronique\n",
      "Quantité                             2\n",
      "PrixUnitaire                    782.86\n",
      "Magasin                          Paris\n",
      "ChiffreAffaires                1565.72\n",
      "Name: 1, dtype: object\n",
      "*****************************************\n",
      "\n",
      "Produit le moins cher : \n",
      " Date               2022-08-03 00:00:00\n",
      "Produit                     Chaussures\n",
      "Catégorie                         Mode\n",
      "Quantité                             4\n",
      "PrixUnitaire                     48.03\n",
      "Magasin                      Marseille\n",
      "ChiffreAffaires                 192.12\n",
      "Name: 10, dtype: object\n",
      "\n",
      "-----------------------------------------------\n",
      "\n",
      "       Catégorie  ChiffreAffaires\n",
      "0          Mode         19235.19\n",
      "1  Électronique         23794.28\n"
     ]
    }
   ],
   "source": [
    "# 8.  Trouver le produit le plus vendu en termes de quantité. \n",
    "\n",
    "print(\"\\nProduit le plus vendu : \\n\",df.loc[df['Quantité'].idxmax()])\n",
    "print(\"****************************************\")\n",
    "print(\"\\nLe produit le plus cher : \\n\",df.loc[df['PrixUnitaire'].idxmax()])\n",
    "\n",
    "print(\"\\n-----------------------------------------------\")\n",
    "\n",
    "print(\"\\nProduit le moins vendu : \\n\",df.loc[df['Quantité'].idxmin()])\n",
    "print(\"*****************************************\")\n",
    "print(\"\\nProduit le moins cher : \\n\",df.loc[df['PrixUnitaire'].idxmin()])\n",
    "\n",
    "\n",
    "# 9.  Calculer le chiffre d’affaires total par catégorie. \n",
    "print(\"\\n-----------------------------------------------\")\n",
    "\n",
    "chiff_par_categorie = df.groupby('Catégorie', as_index=False)['ChiffreAffaires'].sum()\n",
    "\n",
    "print(\"\\n\",chiff_par_categorie)"
   ]
  },
  {
   "cell_type": "code",
   "execution_count": null,
   "id": "83f236dd",
   "metadata": {},
   "outputs": [
    {
     "data": {
      "text/html": [
       "<div>\n",
       "<style scoped>\n",
       "    .dataframe tbody tr th:only-of-type {\n",
       "        vertical-align: middle;\n",
       "    }\n",
       "\n",
       "    .dataframe tbody tr th {\n",
       "        vertical-align: top;\n",
       "    }\n",
       "\n",
       "    .dataframe thead th {\n",
       "        text-align: right;\n",
       "    }\n",
       "</style>\n",
       "<table border=\"1\" class=\"dataframe\">\n",
       "  <thead>\n",
       "    <tr style=\"text-align: right;\">\n",
       "      <th></th>\n",
       "      <th></th>\n",
       "      <th>ChiffreAffaires</th>\n",
       "    </tr>\n",
       "    <tr>\n",
       "      <th>Catégorie</th>\n",
       "      <th>Magasin</th>\n",
       "      <th></th>\n",
       "    </tr>\n",
       "  </thead>\n",
       "  <tbody>\n",
       "    <tr>\n",
       "      <th rowspan=\"2\" valign=\"top\">Mode</th>\n",
       "      <th>Lyon</th>\n",
       "      <td>10090.00</td>\n",
       "    </tr>\n",
       "    <tr>\n",
       "      <th>Marseille</th>\n",
       "      <td>9145.19</td>\n",
       "    </tr>\n",
       "    <tr>\n",
       "      <th rowspan=\"3\" valign=\"top\">Électronique</th>\n",
       "      <th>Bordeaux</th>\n",
       "      <td>7043.76</td>\n",
       "    </tr>\n",
       "    <tr>\n",
       "      <th>Marseille</th>\n",
       "      <td>15184.80</td>\n",
       "    </tr>\n",
       "    <tr>\n",
       "      <th>Paris</th>\n",
       "      <td>1565.72</td>\n",
       "    </tr>\n",
       "  </tbody>\n",
       "</table>\n",
       "</div>"
      ],
      "text/plain": [
       "                        ChiffreAffaires\n",
       "Catégorie    Magasin                   \n",
       "Mode         Lyon              10090.00\n",
       "             Marseille          9145.19\n",
       "Électronique Bordeaux           7043.76\n",
       "             Marseille         15184.80\n",
       "             Paris              1565.72"
      ]
     },
     "execution_count": 109,
     "metadata": {},
     "output_type": "execute_result"
    }
   ],
   "source": [
    "pivot = df.pivot_table(\n",
    "    values= 'ChiffreAffaires',\n",
    "    index= ['Catégorie','Magasin'],\n",
    "    aggfunc= 'sum'\n",
    ")\n",
    "\n",
    "pivot"
   ]
  },
  {
   "cell_type": "code",
   "execution_count": 122,
   "id": "860c3733",
   "metadata": {},
   "outputs": [
    {
     "name": "stdout",
     "output_type": "stream",
     "text": [
      "     Magasin  ChiffreAffaires\n",
      "0   Bordeaux      7043.760000\n",
      "1       Lyon     10090.000000\n",
      "2  Marseille      8109.996667\n",
      "3      Paris      1565.720000\n",
      "\n",
      "---------------------------------------------------\n",
      "      mois  Quantité\n",
      "0  2022-01         1\n",
      "1  2022-03         1\n",
      "2  2022-04         2\n",
      "3  2022-08         1\n",
      "4  2023-03         1\n"
     ]
    }
   ],
   "source": [
    "# 10. Calculer le chiffre d’affaires moyen par magasin\n",
    "\n",
    "chiff_moyenne_par_magasin = df.groupby('Magasin', as_index=False)['ChiffreAffaires'].mean()\n",
    "print(chiff_moyenne_par_magasin)\n",
    "\n",
    "# 11. Compter le nombre de ventes par mois\n",
    "df['mois'] = df['Date'].dt.to_period('M')\n",
    "print(\"\\n---------------------------------------------------\")\n",
    "compter_ventes_par_mois = df.groupby('mois', as_index=False)['Quantité'].count()\n",
    "print(compter_ventes_par_mois)"
   ]
  },
  {
   "cell_type": "code",
   "execution_count": 117,
   "id": "e9a3e0a2",
   "metadata": {},
   "outputs": [
    {
     "data": {
      "image/png": "[encoded data removed]",
      "text/plain": [
       "<Figure size 500x500 with 1 Axes>"
      ]
     },
     "metadata": {},
     "output_type": "display_data"
    }
   ],
   "source": [
    "import matplotlib.pyplot as plt\n",
    "\n",
    "df['mois'] = df['Date'].dt.to_period('M')\n",
    "chiff_par_mois = df.groupby('mois', as_index=False)['ChiffreAffaires'].sum()\n",
    "\n",
    "plt.figure(figsize=(5,5))\n",
    "plt.bar(chiff_par_mois['mois'].astype(str), chiff_par_mois['ChiffreAffaires']) \n",
    "plt.title(\"Graphique de l’évolution du chiffre d’affaires par mois\")\n",
    "plt.xlabel(\"Mois\")\n",
    "plt.ylabel(\"Chiffre d’affaires\")\n",
    "plt.xticks(rotation=45)  \n",
    "plt.show()\n"
   ]
  },
  {
   "cell_type": "markdown",
   "id": "df4c1f15",
   "metadata": {},
   "source": [
    "# Partie E : Analyses supplémentaires "
   ]
  },
  {
   "cell_type": "code",
   "execution_count": 151,
   "id": "fb83bf2c",
   "metadata": {},
   "outputs": [
    {
     "name": "stdout",
     "output_type": "stream",
     "text": [
      "\n",
      "Le magasin avec le plus grand chiffre d’affaires cumulé est :  Marseille\n",
      "\n",
      "---------------------------------------------------\n",
      "\n",
      "le mois où les ventes (quantité) ont été les plus fortes : \n",
      " mois        4\n",
      "Quantité    2\n",
      "dtype: int64\n",
      "\n",
      "---------------------------------------------------\n",
      "\n",
      "le prix unitaire moyen par produit (dh): \n",
      " Produit\n",
      "Chaussures      48.03\n",
      "Fromage        782.64\n",
      "Pantalon       782.86\n",
      "Smartphone    1009.00\n",
      "T-shirt        843.60\n",
      "TV            1279.01\n",
      "Name: PrixUnitaire, dtype: float64\n",
      "\n",
      "---------------------------------------------------\n",
      "\n",
      "Afficher le top 3 des catégories qui génèrent le plus de ventes en volume (quantité) : \n",
      " Catégorie\n",
      "Mode            21\n",
      "Électronique    29\n",
      "Name: Quantité, dtype: int64\n",
      "\n",
      "---------------------------------------------------\n",
      "\n",
      "la répartition des ventes par jour de la semaine : \n",
      " jour\n",
      "Friday       18\n",
      "Sunday       18\n",
      "Wednesday    14\n",
      "Name: Quantité, dtype: int64\n",
      "\n",
      "*****En se basant sur les resultats le jour a le plus frequant ventes est :  Friday\n"
     ]
    }
   ],
   "source": [
    "# 15. Identifier le magasin avec le plus grand chiffre d’affaires cumulé\n",
    "\n",
    "magasin_plus_grand_chiff = df.groupby('Magasin')['ChiffreAffaires'].sum()\n",
    "print(\"\\nLe magasin avec le plus grand chiffre d’affaires cumulé est : \", magasin_plus_grand_chiff.idxmax())\n",
    "\n",
    "\n",
    "# 16. Trouver le mois où les ventes (quantité) ont été les plus fortes\n",
    "\n",
    "print(\"\\n---------------------------------------------------\")\n",
    "mois_ventes_plus_fortes = df.groupby('mois', as_index=False)['Quantité'].sum()\n",
    "print(\"\\nle mois où les ventes (quantité) ont été les plus fortes : \\n\", mois_ventes_plus_fortes.idxmax())\n",
    "\n",
    "# 17. Calculer le prix unitaire moyen par produit\n",
    "\n",
    "print(\"\\n---------------------------------------------------\")\n",
    "prix_unitaire_par_produit = df.groupby('Produit')['PrixUnitaire'].mean()\n",
    "print(\"\\nle prix unitaire moyen par produit (dh): \\n\",prix_unitaire_par_produit)\n",
    "\n",
    "# 18. Afficher le top 3 des catégories qui génèrent le plus de ventes en volume (quantité)\n",
    "\n",
    "print(\"\\n---------------------------------------------------\")\n",
    "categ_plus_ventes = df.groupby('Catégorie')['Quantité'].sum()\n",
    "print(\"\\nAfficher le top 3 des catégories qui génèrent le plus de ventes en volume (quantité) : \\n\",categ_plus_ventes.head(3))\n",
    "\n",
    "# 19. Analyser la répartition des ventes par jour de la semaine (CA total)\n",
    "\n",
    "print(\"\\n---------------------------------------------------\")\n",
    "df['jour'] = df['Date'].dt.day_name()\n",
    "ventes_par_jour = df.groupby('jour')['Quantité'].sum()\n",
    "print(\"\\nla répartition des ventes par jour de la semaine : \\n\",ventes_par_jour)\n",
    "print(\"\\n*****En se basant sur les resultats le jour a le plus frequant ventes est : \",ventes_par_jour.idxmax())\n"
   ]
  },
  {
   "cell_type": "code",
   "execution_count": null,
   "id": "85f1bdfb",
   "metadata": {},
   "outputs": [
    {
     "data": {
      "image/png": "[encoded data removed]",
      "text/plain": [
       "<Figure size 300x300 with 1 Axes>"
      ]
     },
     "metadata": {},
     "output_type": "display_data"
    }
   ],
   "source": [
    "# 20. Créer un histogramme représentant la répartition des quantités vendues. \n",
    "\n",
    "plt.figure(figsize=(3,3))\n",
    "plt.hist(df['Quantité'], bins=10, color='skyblue', edgecolor='black')\n",
    "plt.title(\"Répartition des quantités vendues\")\n",
    "plt.xlabel(\"Quantité\")\n",
    "plt.ylabel(\"Fréquence\")\n",
    "plt.show()"
   ]
  }
 ],
 "metadata": {
  "kernelspec": {
   "display_name": "venv",
   "language": "python",
   "name": "python3"
  },
  "language_info": {
   "codemirror_mode": {
    "name": "ipython",
    "version": 3
   },
   "file_extension": ".py",
   "mimetype": "text/x-python",
   "name": "python",
   "nbconvert_exporter": "python",
   "pygments_lexer": "ipython3",
   "version": "3.10.0"
  }
 },
 "nbformat": 4,
 "nbformat_minor": 5
}
